{
 "cells": [
  {
   "cell_type": "code",
   "execution_count": 1,
   "metadata": {},
   "outputs": [
    {
     "data": {
      "text/plain": [
       "2.4.3"
      ]
     },
     "execution_count": 1,
     "metadata": {},
     "output_type": "execute_result"
    }
   ],
   "source": [
    "spark.version"
   ]
  },
  {
   "cell_type": "code",
   "execution_count": 32,
   "metadata": {},
   "outputs": [],
   "source": [
    "import java.sql.Date\n",
    "import org.apache.spark.sql.expressions.Window\n",
    "import org.apache.spark.sql.functions._"
   ]
  },
  {
   "cell_type": "code",
   "execution_count": 47,
   "metadata": {},
   "outputs": [
    {
     "data": {
      "text/plain": [
       "sourceDf = [purchase date: date, device: string ... 1 more field]\n"
      ]
     },
     "metadata": {},
     "output_type": "display_data"
    },
    {
     "data": {
      "text/plain": [
       "[purchase date: date, device: string ... 1 more field]"
      ]
     },
     "execution_count": 47,
     "metadata": {},
     "output_type": "execute_result"
    }
   ],
   "source": [
    "val sourceDf = Seq(\n",
    "    (Date.valueOf(\"2019-01-01\"), \"notebook\", 100.00),\n",
    "    (Date.valueOf(\"2019-05-10\"), \"notebook\", 300.00),\n",
    "    (Date.valueOf(\"2019-03-05\"), \"small phone\", 100.00),\n",
    "    (Date.valueOf(\"2019-02-20\"), \"camera\",150.00),\n",
    "    (Date.valueOf(\"2019-01-20\"), \"small phone\", 300.00),\n",
    "    (Date.valueOf(\"2019-02-15\"), \"large phone\", 300.00),\n",
    "    (Date.valueOf(\"2019-01-01\"), \"camera\", 300.00),\n",
    "    (Date.valueOf(\"2019-04-01\"), \"small phone\", 50.00)\n",
    ").toDF(\"purchase date\", \"device\", \"price\")"
   ]
  },
  {
   "cell_type": "code",
   "execution_count": 48,
   "metadata": {},
   "outputs": [
    {
     "data": {
      "text/html": [
       "<table><tr><th>purchase date</th><th>device</th><th>price</th></tr><tr><td>2019-01-01</td><td>notebook</td><td>100.0</td></tr><tr><td>2019-05-10</td><td>notebook</td><td>300.0</td></tr><tr><td>2019-03-05</td><td>small phone</td><td>100.0</td></tr><tr><td>2019-02-20</td><td>camera</td><td>150.0</td></tr><tr><td>2019-01-20</td><td>small phone</td><td>300.0</td></tr><tr><td>2019-02-15</td><td>large phone</td><td>300.0</td></tr><tr><td>2019-01-01</td><td>camera</td><td>300.0</td></tr><tr><td>2019-04-01</td><td>small phone</td><td>50.0</td></tr></table>"
      ]
     },
     "execution_count": 48,
     "metadata": {},
     "output_type": "execute_result"
    }
   ],
   "source": [
    "%%dataframe\n",
    "sourceDf"
   ]
  },
  {
   "cell_type": "markdown",
   "metadata": {},
   "source": [
    "## average value per group"
   ]
  },
  {
   "cell_type": "code",
   "execution_count": 49,
   "metadata": {},
   "outputs": [
    {
     "data": {
      "text/html": [
       "<table><tr><th>purchase date</th><th>device</th><th>price</th><th>average_device_price</th></tr><tr><td>2019-02-15</td><td>large phone</td><td>300.0</td><td>300.0</td></tr><tr><td>2019-03-05</td><td>small phone</td><td>100.0</td><td>150.0</td></tr><tr><td>2019-01-20</td><td>small phone</td><td>300.0</td><td>150.0</td></tr><tr><td>2019-04-01</td><td>small phone</td><td>50.0</td><td>150.0</td></tr><tr><td>2019-01-01</td><td>notebook</td><td>100.0</td><td>200.0</td></tr><tr><td>2019-05-10</td><td>notebook</td><td>300.0</td><td>200.0</td></tr><tr><td>2019-02-20</td><td>camera</td><td>150.0</td><td>225.0</td></tr><tr><td>2019-01-01</td><td>camera</td><td>300.0</td><td>225.0</td></tr></table>"
      ]
     },
     "execution_count": 49,
     "metadata": {},
     "output_type": "execute_result"
    }
   ],
   "source": [
    "%%dataframe\n",
    ":paste\n",
    "\n",
    "sourceDf\n",
    "    .withColumn(\"average_device_price\", mean(\"price\") over Window.partitionBy(\"device\"))"
   ]
  },
  {
   "cell_type": "markdown",
   "metadata": {},
   "source": [
    "## where row is largest in group"
   ]
  },
  {
   "cell_type": "code",
   "execution_count": null,
   "metadata": {},
   "outputs": [],
   "source": []
  },
  {
   "cell_type": "markdown",
   "metadata": {},
   "source": [
    "## where row is most recent value"
   ]
  },
  {
   "cell_type": "code",
   "execution_count": null,
   "metadata": {},
   "outputs": [],
   "source": []
  },
  {
   "cell_type": "markdown",
   "metadata": {},
   "source": [
    "## get median value"
   ]
  },
  {
   "cell_type": "code",
   "execution_count": null,
   "metadata": {},
   "outputs": [],
   "source": []
  },
  {
   "cell_type": "markdown",
   "metadata": {},
   "source": [
    "## get percentile"
   ]
  },
  {
   "cell_type": "code",
   "execution_count": null,
   "metadata": {},
   "outputs": [],
   "source": []
  }
 ],
 "metadata": {
  "kernelspec": {
   "display_name": "Apache Toree - Scala",
   "language": "scala",
   "name": "apache_toree_scala"
  },
  "language_info": {
   "codemirror_mode": "text/x-scala",
   "file_extension": ".scala",
   "mimetype": "text/x-scala",
   "name": "scala",
   "pygments_lexer": "scala",
   "version": "2.11.12"
  }
 },
 "nbformat": 4,
 "nbformat_minor": 2
}
