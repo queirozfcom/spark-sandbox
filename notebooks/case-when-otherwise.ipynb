{
 "cells": [
  {
   "cell_type": "code",
   "execution_count": 1,
   "metadata": {},
   "outputs": [],
   "source": [
    "import java.sql.{Date,Timestamp}"
   ]
  },
  {
   "cell_type": "code",
   "execution_count": 2,
   "metadata": {},
   "outputs": [
    {
     "data": {
      "text/plain": [
       "2.4.3"
      ]
     },
     "execution_count": 2,
     "metadata": {},
     "output_type": "execute_result"
    }
   ],
   "source": [
    "spark.version"
   ]
  },
  {
   "cell_type": "markdown",
   "metadata": {},
   "source": [
    "## when/otherwise"
   ]
  },
  {
   "cell_type": "code",
   "execution_count": 7,
   "metadata": {
    "scrolled": true
   },
   "outputs": [
    {
     "data": {
      "text/plain": [
       "df = [purchase_date: string, device: string]\n"
      ]
     },
     "metadata": {},
     "output_type": "display_data"
    },
    {
     "data": {
      "text/plain": [
       "lastException: Throwable = null\n"
      ]
     },
     "metadata": {},
     "output_type": "display_data"
    },
    {
     "data": {
      "text/plain": [
       "[purchase_date: string, device: string]"
      ]
     },
     "execution_count": 7,
     "metadata": {},
     "output_type": "execute_result"
    }
   ],
   "source": [
    "import org.apache.spark.sql.functions.when\n",
    "\n",
    "val df = Seq(\n",
    "    (\"notebook\",\"2019-01-19\"),\n",
    "    (\"notebook\", \"2019-01-10\"),\n",
    "    (\"small_phone\", \"2019-01-15\"),\n",
    "    (\"small_phone\", \"2019-01-30\"),\n",
    "    (\"tv_set\", \"2019-01-22\"),\n",
    "    (\"large_phone\", \"2019-01-30\"),\n",
    "    (\"medium_phone\", \"2019-01-22\")\n",
    ").toDF(\"device\", \"purchase_date\").select(\"purchase_date\",\"device\").sort(\"device\",\"purchase_date\")"
   ]
  },
  {
   "cell_type": "code",
   "execution_count": 8,
   "metadata": {},
   "outputs": [
    {
     "data": {
      "text/html": [
       "<table><tr><th>purchase_date</th><th>device</th></tr><tr><td>2019-01-30</td><td>large_phone</td></tr><tr><td>2019-01-22</td><td>medium_phone</td></tr><tr><td>2019-01-10</td><td>notebook</td></tr><tr><td>2019-01-19</td><td>notebook</td></tr><tr><td>2019-01-15</td><td>small_phone</td></tr><tr><td>2019-01-30</td><td>small_phone</td></tr><tr><td>2019-01-22</td><td>tv_set</td></tr></table>"
      ]
     },
     "execution_count": 8,
     "metadata": {},
     "output_type": "execute_result"
    }
   ],
   "source": [
    "%%dataframe\n",
    "df"
   ]
  },
  {
   "cell_type": "code",
   "execution_count": 9,
   "metadata": {},
   "outputs": [
    {
     "data": {
      "text/html": [
       "<table><tr><th>purchase_date</th><th>device</th><th>is_phone</th></tr><tr><td>2019-01-30</td><td>large_phone</td><td>true</td></tr><tr><td>2019-01-22</td><td>medium_phone</td><td>true</td></tr><tr><td>2019-01-10</td><td>notebook</td><td>false</td></tr><tr><td>2019-01-19</td><td>notebook</td><td>false</td></tr><tr><td>2019-01-15</td><td>small_phone</td><td>true</td></tr><tr><td>2019-01-30</td><td>small_phone</td><td>true</td></tr><tr><td>2019-01-22</td><td>tv_set</td><td>false</td></tr></table>"
      ]
     },
     "execution_count": 9,
     "metadata": {},
     "output_type": "execute_result"
    }
   ],
   "source": [
    "%%dataframe\n",
    "df.withColumn(\"is_phone\",when($\"device\".endsWith(\"phone\"),true).otherwise(false))"
   ]
  },
  {
   "cell_type": "markdown",
   "metadata": {},
   "source": [
    "## when without otherwise"
   ]
  },
  {
   "cell_type": "code",
   "execution_count": 19,
   "metadata": {},
   "outputs": [
    {
     "data": {
      "text/plain": [
       "df = [purchase_date: string, device: string]\n"
      ]
     },
     "metadata": {},
     "output_type": "display_data"
    },
    {
     "data": {
      "text/plain": [
       "[purchase_date: string, device: string]"
      ]
     },
     "execution_count": 19,
     "metadata": {},
     "output_type": "execute_result"
    }
   ],
   "source": [
    "import org.apache.spark.sql.functions.{element_at,split,when}\n",
    "\n",
    "val df = Seq(\n",
    "    (\"notebook\",\"2019-01-19\"),\n",
    "    (\"notebook\", \"2019-01-10\"),\n",
    "    (\"small_phone\", \"2019-01-15\"),\n",
    "    (\"small_phone\", \"2019-01-30\"),\n",
    "    (\"tv_set\", \"2019-01-22\"),\n",
    "    (\"large_phone\", \"2019-01-30\"),\n",
    "    (\"medium_phone\", \"2019-01-22\")\n",
    ").toDF(\"device\", \"purchase_date\").select(\"purchase_date\",\"device\").sort(\"device\",\"purchase_date\")"
   ]
  },
  {
   "cell_type": "code",
   "execution_count": 20,
   "metadata": {},
   "outputs": [
    {
     "data": {
      "text/html": [
       "<table><tr><th>purchase_date</th><th>device</th></tr><tr><td>2019-01-30</td><td>large_phone</td></tr><tr><td>2019-01-22</td><td>medium_phone</td></tr><tr><td>2019-01-10</td><td>notebook</td></tr><tr><td>2019-01-19</td><td>notebook</td></tr><tr><td>2019-01-15</td><td>small_phone</td></tr><tr><td>2019-01-30</td><td>small_phone</td></tr><tr><td>2019-01-22</td><td>tv_set</td></tr></table>"
      ]
     },
     "execution_count": 20,
     "metadata": {},
     "output_type": "execute_result"
    }
   ],
   "source": [
    "%%dataframe\n",
    "df"
   ]
  },
  {
   "cell_type": "code",
   "execution_count": 21,
   "metadata": {},
   "outputs": [
    {
     "data": {
      "text/html": [
       "<table><tr><th>purchase_date</th><th>device</th><th>phone_size</th></tr><tr><td>2019-01-30</td><td>large_phone</td><td>large</td></tr><tr><td>2019-01-22</td><td>medium_phone</td><td>medium</td></tr><tr><td>2019-01-10</td><td>notebook</td><td>null</td></tr><tr><td>2019-01-19</td><td>notebook</td><td>null</td></tr><tr><td>2019-01-15</td><td>small_phone</td><td>small</td></tr><tr><td>2019-01-30</td><td>small_phone</td><td>small</td></tr><tr><td>2019-01-22</td><td>tv_set</td><td>null</td></tr></table>"
      ]
     },
     "execution_count": 21,
     "metadata": {},
     "output_type": "execute_result"
    }
   ],
   "source": [
    "%%dataframe\n",
    "\n",
    "df.withColumn(\"phone_size\", when($\"device\".endsWith(\"phone\"), element_at(split($\"device\",\"_\"),1)))"
   ]
  },
  {
   "cell_type": "markdown",
   "metadata": {},
   "source": [
    "## multiple when clauses"
   ]
  },
  {
   "cell_type": "code",
   "execution_count": 23,
   "metadata": {},
   "outputs": [
    {
     "data": {
      "text/plain": [
       "df = [purchase_date: string, device: string]\n"
      ]
     },
     "metadata": {},
     "output_type": "display_data"
    },
    {
     "data": {
      "text/plain": [
       "[purchase_date: string, device: string]"
      ]
     },
     "execution_count": 23,
     "metadata": {},
     "output_type": "execute_result"
    }
   ],
   "source": [
    "import org.apache.spark.sql.functions.when\n",
    "\n",
    "val df = Seq(\n",
    "    (\"notebook\",\"2019-01-19\"),\n",
    "    (\"notebook\", \"2019-01-10\"),\n",
    "    (\"small_phone\", \"2019-01-15\"),\n",
    "    (\"small_phone\", \"2019-01-30\"),\n",
    "    (\"tv_set\", \"2019-01-22\"),\n",
    "    (\"large_phone\", \"2019-01-30\"),\n",
    "    (\"medium_phone\", \"2019-01-22\")\n",
    ").toDF(\"device\", \"purchase_date\").select(\"purchase_date\",\"device\").sort(\"device\",\"purchase_date\")"
   ]
  },
  {
   "cell_type": "code",
   "execution_count": 24,
   "metadata": {},
   "outputs": [
    {
     "data": {
      "text/html": [
       "<table><tr><th>purchase_date</th><th>device</th></tr><tr><td>2019-01-30</td><td>large_phone</td></tr><tr><td>2019-01-22</td><td>medium_phone</td></tr><tr><td>2019-01-10</td><td>notebook</td></tr><tr><td>2019-01-19</td><td>notebook</td></tr><tr><td>2019-01-15</td><td>small_phone</td></tr><tr><td>2019-01-30</td><td>small_phone</td></tr><tr><td>2019-01-22</td><td>tv_set</td></tr></table>"
      ]
     },
     "execution_count": 24,
     "metadata": {},
     "output_type": "execute_result"
    }
   ],
   "source": [
    "%%dataframe\n",
    "df"
   ]
  },
  {
   "cell_type": "code",
   "execution_count": 27,
   "metadata": {},
   "outputs": [
    {
     "data": {
      "text/html": [
       "<table><tr><th>purchase_date</th><th>device</th><th>shipping_rate</th></tr><tr><td>2019-01-30</td><td>large_phone</td><td>20</td></tr><tr><td>2019-01-22</td><td>medium_phone</td><td>10</td></tr><tr><td>2019-01-10</td><td>notebook</td><td>20</td></tr><tr><td>2019-01-19</td><td>notebook</td><td>20</td></tr><tr><td>2019-01-15</td><td>small_phone</td><td>10</td></tr><tr><td>2019-01-30</td><td>small_phone</td><td>10</td></tr><tr><td>2019-01-22</td><td>tv_set</td><td>30</td></tr></table>"
      ]
     },
     "execution_count": 27,
     "metadata": {},
     "output_type": "execute_result"
    }
   ],
   "source": [
    "%%dataframe\n",
    "\n",
    ":read\n",
    "\n",
    "df.withColumn(\"shipping_rate\", \n",
    "              when($\"device\"===\"tv_set\",30)\n",
    "              .when($\"device\".isin(\"large_phone\",\"notebook\"),20)\n",
    "              .when($\"device\".isin(\"small_phone\",\"medium_phone\"),10)\n",
    "              .otherwise(25)) // in case we sell other devices"
   ]
  }
 ],
 "metadata": {
  "kernelspec": {
   "display_name": "Apache Toree - Scala",
   "language": "scala",
   "name": "apache_toree_scala"
  },
  "language_info": {
   "codemirror_mode": "text/x-scala",
   "file_extension": ".scala",
   "mimetype": "text/x-scala",
   "name": "scala",
   "pygments_lexer": "scala",
   "version": "2.11.12"
  }
 },
 "nbformat": 4,
 "nbformat_minor": 2
}
