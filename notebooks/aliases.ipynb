{
 "cells": [
  {
   "cell_type": "code",
   "execution_count": 1,
   "id": "9e2171fd",
   "metadata": {},
   "outputs": [
    {
     "data": {
      "text/plain": [
       "2.4.8"
      ]
     },
     "execution_count": 1,
     "metadata": {},
     "output_type": "execute_result"
    }
   ],
   "source": [
    "spark.version"
   ]
  },
  {
   "cell_type": "code",
   "execution_count": 2,
   "id": "2c23ce58",
   "metadata": {},
   "outputs": [],
   "source": [
    "import java.sql.Date\n",
    "import org.apache.spark.sql.expressions.Window\n",
    "import org.apache.spark.sql.functions._"
   ]
  },
  {
   "cell_type": "code",
   "execution_count": 5,
   "id": "077c8236",
   "metadata": {},
   "outputs": [
    {
     "data": {
      "text/plain": [
       "purchasesDF = [purchase_date: date, device_id: string]\n"
      ]
     },
     "metadata": {},
     "output_type": "display_data"
    },
    {
     "data": {
      "text/plain": [
       "[purchase_date: date, device_id: string]"
      ]
     },
     "execution_count": 5,
     "metadata": {},
     "output_type": "execute_result"
    }
   ],
   "source": [
    "val purchasesDF = Seq(\n",
    "    (Date.valueOf(\"2019-01-01\"), \"01\"),\n",
    "    (Date.valueOf(\"2019-05-10\"), \"01\"),\n",
    "    (Date.valueOf(\"2019-03-05\"), \"02\"),\n",
    "    (Date.valueOf(\"2019-02-20\"), \"03\"),\n",
    "    (Date.valueOf(\"2019-01-20\"), \"02\")\n",
    ").toDF(\"purchase_date\", \"device_id\")"
   ]
  },
  {
   "cell_type": "code",
   "execution_count": 6,
   "id": "1b9cd20b",
   "metadata": {},
   "outputs": [
    {
     "data": {
      "text/plain": [
       "devicesDF = [device_id: string, device_name: string ... 1 more field]\n"
      ]
     },
     "metadata": {},
     "output_type": "display_data"
    },
    {
     "data": {
      "text/plain": [
       "[device_id: string, device_name: string ... 1 more field]"
      ]
     },
     "execution_count": 6,
     "metadata": {},
     "output_type": "execute_result"
    }
   ],
   "source": [
    "val devicesDF = Seq(\n",
    "    (\"01\", \"notebook\", 600.00),\n",
    "    (\"02\", \"small phone\", 100.00),\n",
    "    (\"03\", \"camera\",150.00),\n",
    "    (\"04\", \"large phone\", 700.00)\n",
    ").toDF(\"device_id\", \"device_name\", \"price\")"
   ]
  },
  {
   "cell_type": "markdown",
   "id": "bfe05688",
   "metadata": {},
   "source": [
    "### error message example"
   ]
  },
  {
   "cell_type": "code",
   "execution_count": 63,
   "id": "a1694fdd",
   "metadata": {},
   "outputs": [
    {
     "data": {
      "text/plain": [
       "lastException: Throwable = null\n"
      ]
     },
     "metadata": {},
     "output_type": "display_data"
    },
    {
     "data": {
      "text/plain": [
       "An error occurred converting DataFrame to html.\n",
       "Reference 'device_id' is ambiguous, could be: device_id, device_id.;"
      ]
     },
     "execution_count": 63,
     "metadata": {},
     "output_type": "execute_result"
    }
   ],
   "source": [
    "%%dataframe\n",
    "purchasesDF.join(devicesDF, col(\"device_id\") === col(\"device_id\"), \"inner\")"
   ]
  },
  {
   "cell_type": "markdown",
   "id": "7522d989",
   "metadata": {},
   "source": [
    "## adding aliases"
   ]
  },
  {
   "cell_type": "code",
   "execution_count": 68,
   "id": "4326cd71",
   "metadata": {},
   "outputs": [
    {
     "data": {
      "text/html": [
       "<table><tr><th>purchase_date</th><th>device_id</th><th>device_id</th><th>device_name</th><th>price</th></tr><tr><td>2019-05-10</td><td>01</td><td>01</td><td>notebook</td><td>600.0</td></tr><tr><td>2019-01-01</td><td>01</td><td>01</td><td>notebook</td><td>600.0</td></tr><tr><td>2019-01-20</td><td>02</td><td>02</td><td>small phone</td><td>100.0</td></tr><tr><td>2019-03-05</td><td>02</td><td>02</td><td>small phone</td><td>100.0</td></tr><tr><td>2019-02-20</td><td>03</td><td>03</td><td>camera</td><td>150.0</td></tr></table>"
      ]
     },
     "execution_count": 68,
     "metadata": {},
     "output_type": "execute_result"
    }
   ],
   "source": [
    "%%dataframe\n",
    "%%scan\n",
    "purchasesDF.as(\"purchases\")\n",
    "  .join(devicesDF.as(\"devices\"), col(\"purchases.device_id\") === col(\"devices.device_id\"))"
   ]
  },
  {
   "cell_type": "markdown",
   "id": "2d1f5b4b",
   "metadata": {},
   "source": [
    "## Viewing qualified column names via exceptions\n",
    "\n",
    "An engineer's gotta do what an engineer's gotta do"
   ]
  },
  {
   "cell_type": "code",
   "execution_count": 60,
   "id": "e2838cee",
   "metadata": {},
   "outputs": [
    {
     "data": {
      "text/plain": [
       "lastException: Throwable = null\n"
      ]
     },
     "metadata": {},
     "output_type": "display_data"
    },
    {
     "data": {
      "text/plain": [
       "An error occurred converting DataFrame to html.\n",
       "cannot resolve '`xxxx`' given input columns: [purchases.device_id, devices.price, devices.device_name, purchases.purchase_date, devices.device_id];;\n",
       "'Project ['xxxx]\n",
       "+- Join Inner, (device_id#20 = device_id#30)\n",
       "   :- SubqueryAlias `purchases`\n",
       "   :  +- Project [_1#16 AS purchase_date#19, _2#17 AS device_id#20]\n",
       "   :     +- LocalRelation [_1#16, _2#17]\n",
       "   +- SubqueryAlias `devices`\n",
       "      +- Project [_1#26 AS device_id#30, _2#27 AS device_name#31, _3#28 AS price#32]\n",
       "         +- LocalRelation [_1#26, _2#27, _3#28]\n"
      ]
     },
     "execution_count": 60,
     "metadata": {},
     "output_type": "execute_result"
    }
   ],
   "source": [
    "purchasesDF.as(\"purchases\")\n",
    "  .join(devicesDF.as(\"devices\"), col(\"purchases.device_id\") === col(\"devices.device_id\"))\n",
    "  .select(\"xxxx\")"
   ]
  },
  {
   "cell_type": "markdown",
   "id": "8f40e29f",
   "metadata": {},
   "source": [
    "## Dropping"
   ]
  },
  {
   "cell_type": "code",
   "execution_count": 66,
   "id": "40ffac92",
   "metadata": {},
   "outputs": [
    {
     "data": {
      "text/html": [
       "<table><tr><th>purchase_date</th><th>device_name</th><th>price</th></tr><tr><td>2019-05-10</td><td>notebook</td><td>600.0</td></tr><tr><td>2019-01-01</td><td>notebook</td><td>600.0</td></tr><tr><td>2019-01-20</td><td>small phone</td><td>100.0</td></tr><tr><td>2019-03-05</td><td>small phone</td><td>100.0</td></tr><tr><td>2019-02-20</td><td>camera</td><td>150.0</td></tr></table>"
      ]
     },
     "execution_count": 66,
     "metadata": {},
     "output_type": "execute_result"
    }
   ],
   "source": [
    "%%dataframe\n",
    "%%scan\n",
    "purchasesDF.as(\"purchases\")\n",
    "  .join(devicesDF.as(\"devices\"), col(\"purchases.device_id\") === col(\"devices.device_id\"))\n",
    "  .drop(\"device_id\")"
   ]
  }
 ],
 "metadata": {
  "kernelspec": {
   "display_name": "Apache Toree - Scala",
   "language": "scala",
   "name": "apache_toree_scala"
  },
  "language_info": {
   "codemirror_mode": "text/x-scala",
   "file_extension": ".scala",
   "mimetype": "text/x-scala",
   "name": "scala",
   "pygments_lexer": "scala",
   "version": "2.11.12"
  }
 },
 "nbformat": 4,
 "nbformat_minor": 5
}
