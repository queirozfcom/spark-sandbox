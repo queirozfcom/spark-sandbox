{
 "cells": [
  {
   "cell_type": "code",
   "execution_count": 1,
   "id": "385e66a8",
   "metadata": {},
   "outputs": [
    {
     "data": {
      "text/plain": [
       "2.4.8"
      ]
     },
     "execution_count": 1,
     "metadata": {},
     "output_type": "execute_result"
    }
   ],
   "source": [
    "spark.version"
   ]
  },
  {
   "cell_type": "markdown",
   "id": "170dfc6e",
   "metadata": {},
   "source": [
    "## date_add / date_sub"
   ]
  },
  {
   "cell_type": "code",
   "execution_count": 2,
   "id": "255697e0",
   "metadata": {},
   "outputs": [
    {
     "data": {
      "text/plain": [
       "df = [device: string, purchase_time: timestamp]\n"
      ]
     },
     "metadata": {},
     "output_type": "display_data"
    },
    {
     "data": {
      "text/plain": [
       "[device: string, purchase_time: timestamp]"
      ]
     },
     "execution_count": 2,
     "metadata": {},
     "output_type": "execute_result"
    }
   ],
   "source": [
    "import java.sql.Timestamp.valueOf\n",
    "import org.apache.spark.sql.functions.{date_add, date_sub}\n",
    "\n",
    "// note that the dates are just strings\n",
    "val df = Seq(\n",
    "    (\"notebook\",    valueOf(\"2019-01-29 12:00:00\")),\n",
    "    (\"notebook\",    valueOf(\"2019-01-01 00:00:00\")),\n",
    "    (\"small_phone\", valueOf(\"2019-01-15 23:00:00\")),\n",
    "    (\"small_phone\", valueOf(\"2019-01-01 09:00:00\"))\n",
    ").toDF(\"device\", \"purchase_time\").sort(\"device\",\"purchase_time\")"
   ]
  },
  {
   "cell_type": "code",
   "execution_count": 3,
   "id": "38f57761",
   "metadata": {},
   "outputs": [
    {
     "data": {
      "text/html": [
       "<table><tr><th>device</th><th>purchase_time</th></tr><tr><td>notebook</td><td>2019-01-01 00:00:00.0</td></tr><tr><td>notebook</td><td>2019-01-29 12:00:00.0</td></tr><tr><td>small_phone</td><td>2019-01-01 09:00:00.0</td></tr><tr><td>small_phone</td><td>2019-01-15 23:00:00.0</td></tr></table>"
      ]
     },
     "execution_count": 3,
     "metadata": {},
     "output_type": "execute_result"
    }
   ],
   "source": [
    "%%dataframe\n",
    "df"
   ]
  },
  {
   "cell_type": "code",
   "execution_count": 4,
   "id": "4d8107cc",
   "metadata": {},
   "outputs": [
    {
     "data": {
      "text/html": [
       "<table><tr><th>device</th><th>purchase_time</th><th>plus_2_days</th></tr><tr><td>notebook</td><td>2019-01-01 00:00:00.0</td><td>2019-01-03</td></tr><tr><td>notebook</td><td>2019-01-29 12:00:00.0</td><td>2019-01-31</td></tr><tr><td>small_phone</td><td>2019-01-01 09:00:00.0</td><td>2019-01-03</td></tr><tr><td>small_phone</td><td>2019-01-15 23:00:00.0</td><td>2019-01-17</td></tr></table>"
      ]
     },
     "execution_count": 4,
     "metadata": {},
     "output_type": "execute_result"
    }
   ],
   "source": [
    "%%dataframe\n",
    "df.withColumn(\"plus_2_days\", date_add($\"purchase_time\",2))"
   ]
  },
  {
   "cell_type": "markdown",
   "id": "8dfffc71",
   "metadata": {},
   "source": [
    "## datediff"
   ]
  },
  {
   "cell_type": "code",
   "execution_count": 5,
   "id": "15218f01",
   "metadata": {},
   "outputs": [
    {
     "data": {
      "text/plain": [
       "df = [device: string, purchase_date: date ... 1 more field]\n"
      ]
     },
     "metadata": {},
     "output_type": "display_data"
    },
    {
     "data": {
      "text/plain": [
       "[device: string, purchase_date: date ... 1 more field]"
      ]
     },
     "execution_count": 5,
     "metadata": {},
     "output_type": "execute_result"
    }
   ],
   "source": [
    "import java.sql.Date.valueOf\n",
    "import org.apache.spark.sql.functions.datediff\n",
    "\n",
    "val df = Seq(\n",
    "    (\"notebook\",    valueOf(\"2019-01-29\"), valueOf(\"2019-02-10\")),\n",
    "    (\"notebook\",    valueOf(\"2019-01-01\"), valueOf(\"2019-01-15\")),\n",
    "    (\"small_phone\", valueOf(\"2019-01-15\"), valueOf(\"2019-01-05\")),\n",
    "    (\"small_phone\", valueOf(\"2019-01-01\"), valueOf(\"2019-01-20\"))\n",
    ").toDF(\"device\", \"purchase_date\", \"arrival_date\").sort(\"device\",\"purchase_date\")"
   ]
  },
  {
   "cell_type": "code",
   "execution_count": 6,
   "id": "f5591075",
   "metadata": {},
   "outputs": [
    {
     "data": {
      "text/html": [
       "<table><tr><th>device</th><th>purchase_date</th><th>arrival_date</th></tr><tr><td>notebook</td><td>2019-01-01</td><td>2019-01-15</td></tr><tr><td>notebook</td><td>2019-01-29</td><td>2019-02-10</td></tr><tr><td>small_phone</td><td>2019-01-01</td><td>2019-01-20</td></tr><tr><td>small_phone</td><td>2019-01-15</td><td>2019-01-05</td></tr></table>"
      ]
     },
     "execution_count": 6,
     "metadata": {},
     "output_type": "execute_result"
    }
   ],
   "source": [
    "%%dataframe\n",
    "df"
   ]
  },
  {
   "cell_type": "code",
   "execution_count": 7,
   "id": "62d19889",
   "metadata": {},
   "outputs": [
    {
     "data": {
      "text/html": [
       "<table><tr><th>device</th><th>purchase_date</th><th>arrival_date</th><th>days_to_arrive</th></tr><tr><td>notebook</td><td>2019-01-01</td><td>2019-01-15</td><td>14</td></tr><tr><td>notebook</td><td>2019-01-29</td><td>2019-02-10</td><td>12</td></tr><tr><td>small_phone</td><td>2019-01-01</td><td>2019-01-20</td><td>19</td></tr><tr><td>small_phone</td><td>2019-01-15</td><td>2019-01-05</td><td>-10</td></tr></table>"
      ]
     },
     "execution_count": 7,
     "metadata": {},
     "output_type": "execute_result"
    }
   ],
   "source": [
    "%%dataframe\n",
    "df.withColumn(\"days_to_arrive\",datediff($\"arrival_date\", $\"purchase_date\"))"
   ]
  },
  {
   "cell_type": "markdown",
   "id": "a05f4191",
   "metadata": {},
   "source": [
    "## difference in seconds"
   ]
  },
  {
   "cell_type": "code",
   "execution_count": 8,
   "id": "d53bee7f",
   "metadata": {},
   "outputs": [
    {
     "data": {
      "text/plain": [
       "df = [col1: string, purchase_time: timestamp ... 1 more field]\n"
      ]
     },
     "metadata": {},
     "output_type": "display_data"
    },
    {
     "data": {
      "text/plain": [
       "[col1: string, purchase_time: timestamp ... 1 more field]"
      ]
     },
     "execution_count": 8,
     "metadata": {},
     "output_type": "execute_result"
    }
   ],
   "source": [
    "import java.sql.Timestamp.valueOf\n",
    "import org.apache.spark.sql.functions.unix_timestamp\n",
    "\n",
    "val df = Seq(\n",
    "    (\"foo\", valueOf(\"2019-01-01 00:00:00\"), valueOf(\"2019-01-01 01:00:00\")), // 1 hour apart\n",
    "    (\"bar\", valueOf(\"2019-01-01 00:00:00\"), valueOf(\"2019-01-02 00:00:00\")), // 24 hours apart\n",
    "    (\"baz\", valueOf(\"2019-01-01 00:00:00\"), valueOf(\"2019-01-07 00:00:00\"))  // 7 days apart\n",
    ").toDF(\"col1\", \"purchase_time\", \"arrival_time\").sort(\"col1\", \"purchase_time\")"
   ]
  },
  {
   "cell_type": "code",
   "execution_count": 9,
   "id": "c4cbbe02",
   "metadata": {},
   "outputs": [
    {
     "data": {
      "text/html": [
       "<table><tr><th>col1</th><th>purchase_time</th><th>arrival_time</th></tr><tr><td>bar</td><td>2019-01-01 00:00:00.0</td><td>2019-01-02 00:00:00.0</td></tr><tr><td>baz</td><td>2019-01-01 00:00:00.0</td><td>2019-01-07 00:00:00.0</td></tr><tr><td>foo</td><td>2019-01-01 00:00:00.0</td><td>2019-01-01 01:00:00.0</td></tr></table>"
      ]
     },
     "execution_count": 9,
     "metadata": {},
     "output_type": "execute_result"
    }
   ],
   "source": [
    "%%dataframe\n",
    "df"
   ]
  },
  {
   "cell_type": "code",
   "execution_count": 10,
   "id": "f3b31763",
   "metadata": {},
   "outputs": [
    {
     "data": {
      "text/html": [
       "<table><tr><th>col1</th><th>purchase_time</th><th>arrival_time</th><th>diff_in_seconds_2</th></tr><tr><td>bar</td><td>2019-01-01 00:00:00.0</td><td>2019-01-02 00:00:00.0</td><td>86400</td></tr><tr><td>baz</td><td>2019-01-01 00:00:00.0</td><td>2019-01-07 00:00:00.0</td><td>518400</td></tr><tr><td>foo</td><td>2019-01-01 00:00:00.0</td><td>2019-01-01 01:00:00.0</td><td>3600</td></tr></table>"
      ]
     },
     "execution_count": 10,
     "metadata": {},
     "output_type": "execute_result"
    }
   ],
   "source": [
    "%%dataframe\n",
    "\n",
    "df.withColumn(\"diff_in_seconds_2\", unix_timestamp($\"arrival_time\") - unix_timestamp($\"purchase_time\"))"
   ]
  },
  {
   "cell_type": "markdown",
   "id": "8004a502",
   "metadata": {},
   "source": [
    "## difference in milliseconds"
   ]
  },
  {
   "cell_type": "code",
   "execution_count": 11,
   "id": "76c6b901",
   "metadata": {},
   "outputs": [
    {
     "data": {
      "text/plain": [
       "df = [col1: string, time_before: timestamp ... 1 more field]\n"
      ]
     },
     "metadata": {},
     "output_type": "display_data"
    },
    {
     "data": {
      "text/plain": [
       "[col1: string, time_before: timestamp ... 1 more field]"
      ]
     },
     "execution_count": 11,
     "metadata": {},
     "output_type": "execute_result"
    }
   ],
   "source": [
    "import java.sql.Timestamp.valueOf\n",
    "import org.apache.spark.sql.functions.to_timestamp\n",
    "\n",
    "val df = Seq(\n",
    "    (\"foo\", valueOf(\"2019-01-01 00:00:00.000\"), valueOf(\"2019-01-01 00:00:00.400\")), \n",
    "    (\"bar\", valueOf(\"2019-01-01 00:00:00.000\"), valueOf(\"2019-01-01 00:00:00.650\")), \n",
    "    (\"baz\", valueOf(\"2019-01-01 00:00:00.000\"), valueOf(\"2019-01-01 00:01:00.000\")) \n",
    ").toDF(\"col1\", \"time_before\", \"time_after\")"
   ]
  },
  {
   "cell_type": "code",
   "execution_count": 12,
   "id": "095040a7",
   "metadata": {},
   "outputs": [
    {
     "data": {
      "text/html": [
       "<table><tr><th>col1</th><th>time_before</th><th>time_after</th></tr><tr><td>foo</td><td>2019-01-01 00:00:00.0</td><td>2019-01-01 00:00:00.4</td></tr><tr><td>bar</td><td>2019-01-01 00:00:00.0</td><td>2019-01-01 00:00:00.65</td></tr><tr><td>baz</td><td>2019-01-01 00:00:00.0</td><td>2019-01-01 00:01:00.0</td></tr></table>"
      ]
     },
     "execution_count": 12,
     "metadata": {},
     "output_type": "execute_result"
    }
   ],
   "source": [
    "%%dataframe\n",
    "df"
   ]
  },
  {
   "cell_type": "code",
   "execution_count": 13,
   "id": "d9fcbbb5",
   "metadata": {},
   "outputs": [
    {
     "data": {
      "text/html": [
       "<table><tr><th>col1</th><th>time_before</th><th>time_after</th><th>diff_millis</th></tr><tr><td>foo</td><td>2019-01-01 00:00:00.0</td><td>2019-01-01 00:00:00.4</td><td>400</td></tr><tr><td>bar</td><td>2019-01-01 00:00:00.0</td><td>2019-01-01 00:00:00.65</td><td>650</td></tr><tr><td>baz</td><td>2019-01-01 00:00:00.0</td><td>2019-01-01 00:01:00.0</td><td>60000</td></tr></table>"
      ]
     },
     "execution_count": 13,
     "metadata": {},
     "output_type": "execute_result"
    }
   ],
   "source": [
    "%%dataframe\n",
    "%%scan\n",
    "\n",
    "(df\n",
    ".withColumn(\"diff_millis\", ($\"time_after\".cast(\"double\") - $\"time_before\".cast(\"double\")))\n",
    ".withColumn(\"diff_millis\", ($\"diff_millis\"*1000).cast(\"long\")))"
   ]
  },
  {
   "cell_type": "markdown",
   "id": "86d2c7bf",
   "metadata": {},
   "source": [
    "## difference in hours"
   ]
  },
  {
   "cell_type": "code",
   "execution_count": 52,
   "id": "60a3675a",
   "metadata": {},
   "outputs": [
    {
     "data": {
      "text/plain": [
       "df = [col1: string, purchase_time: timestamp ... 1 more field]\n"
      ]
     },
     "metadata": {},
     "output_type": "display_data"
    },
    {
     "data": {
      "text/plain": [
       "[col1: string, purchase_time: timestamp ... 1 more field]"
      ]
     },
     "execution_count": 52,
     "metadata": {},
     "output_type": "execute_result"
    }
   ],
   "source": [
    "import java.sql.Timestamp.valueOf\n",
    "import org.apache.spark.sql.functions.expr\n",
    "\n",
    "val df = Seq(\n",
    "    (\"foo\", valueOf(\"2019-10-10 00:00:00.000\"), valueOf(\"2019-10-10 01:00:00.000\")), // exactly 1 hour \n",
    "    (\"bar\", valueOf(\"2019-10-10 00:00:00.000\"), valueOf(\"2019-10-10 01:00:00.123\")), // one hour and some millis   \n",
    "    (\"baz\", valueOf(\"2019-10-10 00:00:00.000\"), valueOf(\"2019-10-11 01:30:00.123\")) // one day and one and a half hours\n",
    ").toDF(\"col1\", \"purchase_time\", \"arrival_time\")"
   ]
  },
  {
   "cell_type": "code",
   "execution_count": 53,
   "id": "b8b70440",
   "metadata": {},
   "outputs": [
    {
     "data": {
      "text/html": [
       "<table><tr><th>col1</th><th>purchase_time</th><th>arrival_time</th></tr><tr><td>foo</td><td>2019-10-10 00:00:00.0</td><td>2019-10-10 01:00:00.0</td></tr><tr><td>bar</td><td>2019-10-10 00:00:00.0</td><td>2019-10-10 01:00:00.123</td></tr><tr><td>baz</td><td>2019-10-10 00:00:00.0</td><td>2019-10-11 01:30:00.123</td></tr></table>"
      ]
     },
     "execution_count": 53,
     "metadata": {},
     "output_type": "execute_result"
    }
   ],
   "source": [
    "%%dataframe\n",
    "df"
   ]
  },
  {
   "cell_type": "code",
   "execution_count": 54,
   "id": "aadbd5d5",
   "metadata": {},
   "outputs": [
    {
     "data": {
      "text/plain": [
       "seconds_in_hour = 3600\n"
      ]
     },
     "metadata": {},
     "output_type": "display_data"
    },
    {
     "data": {
      "text/plain": [
       "3600"
      ]
     },
     "execution_count": 54,
     "metadata": {},
     "output_type": "execute_result"
    }
   ],
   "source": [
    "val seconds_in_hour = 60 * 60"
   ]
  },
  {
   "cell_type": "code",
   "execution_count": 55,
   "id": "2ca602b1",
   "metadata": {},
   "outputs": [
    {
     "data": {
      "text/html": [
       "<table><tr><th>col1</th><th>purchase_time</th><th>arrival_time</th><th>difference_in_hours</th></tr><tr><td>foo</td><td>2019-10-10 00:00:00.0</td><td>2019-10-10 01:00:00.0</td><td>1.0</td></tr><tr><td>bar</td><td>2019-10-10 00:00:00.0</td><td>2019-10-10 01:00:00.123</td><td>1.0000341666407055</td></tr><tr><td>baz</td><td>2019-10-10 00:00:00.0</td><td>2019-10-11 01:30:00.123</td><td>25.500034166640706</td></tr></table>"
      ]
     },
     "execution_count": 55,
     "metadata": {},
     "output_type": "execute_result"
    }
   ],
   "source": [
    "%%dataframe\n",
    "%%scan\n",
    "\n",
    "(df\n",
    ".withColumn(\"difference_in_seconds\", $\"arrival_time\".cast(\"double\") - $\"purchase_time\".cast(\"double\"))\n",
    ".withColumn(\"difference_in_hours\", $\"difference_in_seconds\" / seconds_in_hour)\n",
    ".select(\"col1\", \"purchase_time\", \"arrival_time\", \"difference_in_hours\"))"
   ]
  },
  {
   "cell_type": "markdown",
   "id": "80b31c12",
   "metadata": {},
   "source": [
    "## expr interval"
   ]
  },
  {
   "cell_type": "code",
   "execution_count": 14,
   "id": "c7d1cd49",
   "metadata": {},
   "outputs": [
    {
     "data": {
      "text/plain": [
       "df = [col1: string, timestamp_col: timestamp]\n"
      ]
     },
     "metadata": {},
     "output_type": "display_data"
    },
    {
     "data": {
      "text/plain": [
       "[col1: string, timestamp_col: timestamp]"
      ]
     },
     "execution_count": 14,
     "metadata": {},
     "output_type": "execute_result"
    }
   ],
   "source": [
    "import java.sql.Timestamp.valueOf\n",
    "import org.apache.spark.sql.functions.expr\n",
    "\n",
    "val df = Seq(\n",
    "    (\"foo\", valueOf(\"2019-10-10 00:45:00\")), \n",
    "    (\"bar\", valueOf(\"2019-10-10 12:34:56\")), \n",
    "    (\"baz\", valueOf(\"2019-10-10 23:59:00\")) \n",
    ").toDF(\"col1\", \"timestamp_col\")"
   ]
  },
  {
   "cell_type": "code",
   "execution_count": 15,
   "id": "261c90fe",
   "metadata": {},
   "outputs": [
    {
     "data": {
      "text/html": [
       "<table><tr><th>col1</th><th>timestamp_col</th></tr><tr><td>foo</td><td>2019-10-10 00:45:00.0</td></tr><tr><td>bar</td><td>2019-10-10 12:34:56.0</td></tr><tr><td>baz</td><td>2019-10-10 23:59:00.0</td></tr></table>"
      ]
     },
     "execution_count": 15,
     "metadata": {},
     "output_type": "execute_result"
    }
   ],
   "source": [
    "%%dataframe\n",
    "df"
   ]
  },
  {
   "cell_type": "code",
   "execution_count": 16,
   "id": "55db67ea",
   "metadata": {},
   "outputs": [
    {
     "data": {
      "text/html": [
       "<table><tr><th>col1</th><th>timestamp_col</th><th>timestamp_minus_24_hours</th></tr><tr><td>foo</td><td>2019-10-10 00:45:00.0</td><td>2019-10-09 00:45:00.0</td></tr><tr><td>bar</td><td>2019-10-10 12:34:56.0</td><td>2019-10-09 12:34:56.0</td></tr><tr><td>baz</td><td>2019-10-10 23:59:00.0</td><td>2019-10-09 23:59:00.0</td></tr></table>"
      ]
     },
     "execution_count": 16,
     "metadata": {},
     "output_type": "execute_result"
    }
   ],
   "source": [
    "%%dataframe\n",
    "%%scan\n",
    "\n",
    "df\n",
    ".withColumn(\"timestamp_minus_24_hours\", $\"timestamp_col\" - expr(\"INTERVAL 24 HOURS\"))"
   ]
  },
  {
   "cell_type": "code",
   "execution_count": null,
   "id": "f1fb27c7",
   "metadata": {},
   "outputs": [],
   "source": []
  },
  {
   "cell_type": "code",
   "execution_count": null,
   "id": "df9791b8",
   "metadata": {},
   "outputs": [],
   "source": []
  }
 ],
 "metadata": {
  "kernelspec": {
   "display_name": "Apache Toree - Scala",
   "language": "scala",
   "name": "apache_toree_scala"
  },
  "language_info": {
   "codemirror_mode": "text/x-scala",
   "file_extension": ".scala",
   "mimetype": "text/x-scala",
   "name": "scala",
   "pygments_lexer": "scala",
   "version": "2.11.12"
  }
 },
 "nbformat": 4,
 "nbformat_minor": 5
}
