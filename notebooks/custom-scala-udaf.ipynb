{
 "cells": [
  {
   "cell_type": "markdown",
   "metadata": {},
   "source": [
    "## source: https://docs.databricks.com/spark/latest/spark-sql/udaf-scala.html"
   ]
  },
  {
   "cell_type": "code",
   "execution_count": 1,
   "metadata": {},
   "outputs": [
    {
     "data": {
      "text/plain": [
       "2.4.5"
      ]
     },
     "execution_count": 1,
     "metadata": {},
     "output_type": "execute_result"
    }
   ],
   "source": [
    "spark.version"
   ]
  },
  {
   "cell_type": "code",
   "execution_count": 2,
   "metadata": {},
   "outputs": [],
   "source": [
    "import java.sql.Date\n",
    "import org.apache.spark.sql.expressions.Window\n",
    "import org.apache.spark.sql.functions._\n",
    "import org.apache.spark.sql.functions.udf"
   ]
  },
  {
   "cell_type": "code",
   "execution_count": 3,
   "metadata": {},
   "outputs": [
    {
     "data": {
      "text/plain": [
       "defined class DiffCount\n"
      ]
     },
     "metadata": {},
     "output_type": "display_data"
    }
   ],
   "source": [
    "import org.apache.spark.sql.expressions.MutableAggregationBuffer\n",
    "import org.apache.spark.sql.expressions.UserDefinedAggregateFunction\n",
    "import org.apache.spark.sql.Row\n",
    "import org.apache.spark.sql.types._\n",
    "\n",
    "class DiffCount(val threshold:Double) extends UserDefinedAggregateFunction {\n",
    "  // This is the input fields for your aggregate function.\n",
    "  override def inputSchema: org.apache.spark.sql.types.StructType =\n",
    "    StructType(StructField(\"sms\", StringType) :: Nil)\n",
    "\n",
    "  // This is the internal fields you keep for computing your aggregate.\n",
    "  override def bufferSchema: StructType = StructType(\n",
    "    StructField(\"count\", LongType) ::\n",
    "    StructField(\"base_string\", StringType) :: \n",
    "    StructField(\"match_count\", LongType) :: Nil\n",
    "  )\n",
    "\n",
    "  def similarity(str1: String, str2: String): Double = {\n",
    "       if (str1 == str2) 1.0 else 0.0\n",
    "  }\n",
    "    \n",
    "  // This is the output type of your aggregatation function.\n",
    "  override def dataType: DataType = LongType\n",
    "\n",
    "  // This is the initial value for your buffer schema.\n",
    "  override def initialize(buffer: MutableAggregationBuffer): Unit = {\n",
    "    buffer(0) = 0L\n",
    "    buffer(1) = \"\"\n",
    "    buffer(2) = 0L\n",
    "  }\n",
    "\n",
    "  override def deterministic: Boolean = true    \n",
    "    \n",
    "  // This is how to update your buffer schema given an input.\n",
    "  override def update(buffer: MutableAggregationBuffer, input: Row): Unit = {\n",
    "      \n",
    "    val newString = input.getString(0)\n",
    "            \n",
    "    if(buffer.getAs[Long](0) == 0L){\n",
    "        buffer(1) = newString\n",
    "        buffer(0) = 1L\n",
    "    }else{\n",
    "        val baseString = buffer.getAs[String](1)\n",
    "               \n",
    "        val simil = similarity(baseString, newString)\n",
    "        \n",
    "        buffer(2) = buffer.getAs[Long](2) + simil.toLong\n",
    "        buffer(0) = buffer.getAs[Long](0) + 1  \n",
    "    }\n",
    "  }\n",
    "\n",
    "//   This is how to merge two objects with the bufferSchema type.\n",
    "  override def merge(buffer1: MutableAggregationBuffer, buffer2: Row): Unit = {}\n",
    "    \n",
    "  // This is where you output the final value, given the final value of your bufferSchema.\n",
    "  override def evaluate(buffer: Row): Any = buffer.getLong(2)\n",
    "}"
   ]
  },
  {
   "cell_type": "code",
   "execution_count": 4,
   "metadata": {},
   "outputs": [
    {
     "data": {
      "text/plain": [
       "devicesDf = [sms: string]\n"
      ]
     },
     "metadata": {},
     "output_type": "display_data"
    },
    {
     "data": {
      "text/plain": [
       "[sms: string]"
      ]
     },
     "execution_count": 4,
     "metadata": {},
     "output_type": "execute_result"
    }
   ],
   "source": [
    "val devicesDf = Seq(\n",
    "    (\"notebook\"),\n",
    "    (\"notebook\"),\n",
    "    (\"small phone\"),\n",
    "    (\"camera\"),\n",
    "    (\"small phone\"),\n",
    "    (\"large phone\"),\n",
    "    (\"camera\"),\n",
    "    (\"small phone\")\n",
    ").toDF(\"sms\")"
   ]
  },
  {
   "cell_type": "code",
   "execution_count": 5,
   "metadata": {},
   "outputs": [
    {
     "name": "stdout",
     "output_type": "stream",
     "text": [
      "+-----------+----------+\n",
      "|        sms|diff_count|\n",
      "+-----------+----------+\n",
      "|   notebook|         1|\n",
      "|   notebook|         0|\n",
      "|small phone|         2|\n",
      "|     camera|         1|\n",
      "|small phone|         1|\n",
      "|large phone|         0|\n",
      "|     camera|         0|\n",
      "|small phone|         0|\n",
      "+-----------+----------+\n",
      "\n"
     ]
    },
    {
     "data": {
      "text/plain": [
       "diff_count = DiffCount@51b29ee9\n"
      ]
     },
     "metadata": {},
     "output_type": "display_data"
    },
    {
     "data": {
      "text/plain": [
       "DiffCount@51b29ee9"
      ]
     },
     "execution_count": 5,
     "metadata": {},
     "output_type": "execute_result"
    }
   ],
   "source": [
    "val diff_count = new DiffCount(0.0)\n",
    "\n",
    "devicesDf\n",
    "    .withColumn(\"diff_count\",diff_count(col(\"sms\")) over Window.rowsBetween(0,Window.unboundedFollowing)).show()"
   ]
  }
 ],
 "metadata": {
  "kernelspec": {
   "display_name": "Apache Toree - Scala",
   "language": "scala",
   "name": "apache_toree_scala"
  },
  "language_info": {
   "codemirror_mode": "text/x-scala",
   "file_extension": ".scala",
   "mimetype": "text/x-scala",
   "name": "scala",
   "pygments_lexer": "scala",
   "version": "2.11.12"
  }
 },
 "nbformat": 4,
 "nbformat_minor": 4
}
