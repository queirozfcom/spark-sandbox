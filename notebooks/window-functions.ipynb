{
 "cells": [
  {
   "cell_type": "code",
   "execution_count": 1,
   "metadata": {},
   "outputs": [
    {
     "data": {
      "text/plain": [
       "2.4.8"
      ]
     },
     "execution_count": 1,
     "metadata": {},
     "output_type": "execute_result"
    }
   ],
   "source": [
    "spark.version"
   ]
  },
  {
   "cell_type": "code",
   "execution_count": 2,
   "metadata": {},
   "outputs": [],
   "source": [
    "import java.sql.Date\n",
    "import org.apache.spark.sql.expressions.Window\n",
    "import org.apache.spark.sql.functions._"
   ]
  },
  {
   "cell_type": "code",
   "execution_count": 3,
   "metadata": {},
   "outputs": [
    {
     "data": {
      "text/plain": [
       "devicesDf = [purchase_date: date, device: string ... 1 more field]\n"
      ]
     },
     "metadata": {},
     "output_type": "display_data"
    },
    {
     "data": {
      "text/plain": [
       "[purchase_date: date, device: string ... 1 more field]"
      ]
     },
     "execution_count": 3,
     "metadata": {},
     "output_type": "execute_result"
    }
   ],
   "source": [
    "val devicesDf = Seq(\n",
    "    (Date.valueOf(\"2019-01-01\"), \"notebook\", 600.00),\n",
    "    (Date.valueOf(\"2019-05-10\"), \"notebook\", 1200.00),\n",
    "    (Date.valueOf(\"2019-03-05\"), \"small phone\", 100.00),\n",
    "    (Date.valueOf(\"2019-02-20\"), \"camera\",150.00),\n",
    "    (Date.valueOf(\"2019-01-20\"), \"small phone\", 300.00),\n",
    "    (Date.valueOf(\"2019-02-15\"), \"large phone\", 700.00),\n",
    "    (Date.valueOf(\"2019-07-01\"), \"camera\", 300.00),\n",
    "    (Date.valueOf(\"2019-04-01\"), \"small phone\", 50.00)\n",
    ").toDF(\"purchase_date\", \"device\", \"price\")"
   ]
  },
  {
   "cell_type": "code",
   "execution_count": 4,
   "metadata": {},
   "outputs": [
    {
     "data": {
      "text/html": [
       "<table><tr><th>purchase_date</th><th>device</th><th>price</th></tr><tr><td>2019-01-01</td><td>notebook</td><td>600.0</td></tr><tr><td>2019-01-20</td><td>small phone</td><td>300.0</td></tr><tr><td>2019-02-15</td><td>large phone</td><td>700.0</td></tr><tr><td>2019-02-20</td><td>camera</td><td>150.0</td></tr><tr><td>2019-03-05</td><td>small phone</td><td>100.0</td></tr><tr><td>2019-04-01</td><td>small phone</td><td>50.0</td></tr><tr><td>2019-05-10</td><td>notebook</td><td>1200.0</td></tr><tr><td>2019-07-01</td><td>camera</td><td>300.0</td></tr></table>"
      ]
     },
     "execution_count": 4,
     "metadata": {},
     "output_type": "execute_result"
    }
   ],
   "source": [
    "%%dataframe\n",
    "devicesDf.sort(\"purchase_date\")"
   ]
  },
  {
   "cell_type": "markdown",
   "metadata": {},
   "source": [
    "## average value per group"
   ]
  },
  {
   "cell_type": "code",
   "execution_count": 5,
   "metadata": {},
   "outputs": [
    {
     "data": {
      "text/html": [
       "<table><tr><th>purchase_date</th><th>device</th><th>price</th><th>average_price_in_group</th></tr><tr><td>2019-02-15</td><td>large phone</td><td>700.0</td><td>700.0</td></tr><tr><td>2019-03-05</td><td>small phone</td><td>100.0</td><td>150.0</td></tr><tr><td>2019-01-20</td><td>small phone</td><td>300.0</td><td>150.0</td></tr><tr><td>2019-04-01</td><td>small phone</td><td>50.0</td><td>150.0</td></tr><tr><td>2019-01-01</td><td>notebook</td><td>600.0</td><td>900.0</td></tr><tr><td>2019-05-10</td><td>notebook</td><td>1200.0</td><td>900.0</td></tr><tr><td>2019-02-20</td><td>camera</td><td>150.0</td><td>225.0</td></tr><tr><td>2019-07-01</td><td>camera</td><td>300.0</td><td>225.0</td></tr></table>"
      ]
     },
     "execution_count": 5,
     "metadata": {},
     "output_type": "execute_result"
    }
   ],
   "source": [
    "%%dataframe\n",
    ":paste\n",
    "\n",
    "devicesDf\n",
    "    .withColumn(\"average_price_in_group\", mean(\"price\") over Window.partitionBy(\"device\"))"
   ]
  },
  {
   "cell_type": "markdown",
   "metadata": {},
   "source": [
    "## where row is largest in group"
   ]
  },
  {
   "cell_type": "code",
   "execution_count": 6,
   "metadata": {},
   "outputs": [
    {
     "data": {
      "text/html": [
       "<table><tr><th>purchase_date</th><th>device</th><th>price</th><th>max_price_in_group</th></tr><tr><td>2019-02-15</td><td>large phone</td><td>700.0</td><td>700.0</td></tr><tr><td>2019-03-05</td><td>small phone</td><td>100.0</td><td>300.0</td></tr><tr><td>2019-01-20</td><td>small phone</td><td>300.0</td><td>300.0</td></tr><tr><td>2019-04-01</td><td>small phone</td><td>50.0</td><td>300.0</td></tr><tr><td>2019-01-01</td><td>notebook</td><td>600.0</td><td>1200.0</td></tr><tr><td>2019-05-10</td><td>notebook</td><td>1200.0</td><td>1200.0</td></tr><tr><td>2019-02-20</td><td>camera</td><td>150.0</td><td>300.0</td></tr><tr><td>2019-07-01</td><td>camera</td><td>300.0</td><td>300.0</td></tr></table>"
      ]
     },
     "execution_count": 6,
     "metadata": {},
     "output_type": "execute_result"
    }
   ],
   "source": [
    "%%dataframe\n",
    ":paste\n",
    "\n",
    "devicesDf.withColumn(\"max_price_in_group\", max(\"price\") over Window.partitionBy(\"device\"))"
   ]
  },
  {
   "cell_type": "code",
   "execution_count": 7,
   "metadata": {},
   "outputs": [
    {
     "data": {
      "text/html": [
       "<table><tr><th>purchase_date</th><th>device</th><th>price</th><th>max_price_in_group</th></tr><tr><td>2019-02-15</td><td>large phone</td><td>700.0</td><td>700.0</td></tr><tr><td>2019-01-20</td><td>small phone</td><td>300.0</td><td>300.0</td></tr><tr><td>2019-05-10</td><td>notebook</td><td>1200.0</td><td>1200.0</td></tr><tr><td>2019-07-01</td><td>camera</td><td>300.0</td><td>300.0</td></tr></table>"
      ]
     },
     "execution_count": 7,
     "metadata": {},
     "output_type": "execute_result"
    }
   ],
   "source": [
    "%%dataframe\n",
    ":paste\n",
    "\n",
    "devicesDf\n",
    "    .withColumn(\"max_price_in_group\", max(\"price\") over Window.partitionBy(\"device\"))\n",
    "    .filter($\"price\" === $\"max_price_in_group\")"
   ]
  },
  {
   "cell_type": "markdown",
   "metadata": {},
   "source": [
    "## where row is most recent value in group"
   ]
  },
  {
   "cell_type": "code",
   "execution_count": 8,
   "metadata": {},
   "outputs": [
    {
     "data": {
      "text/html": [
       "<table><tr><th>purchase_date</th><th>device</th><th>price</th><th>most_recent_purchase_in_group</th></tr><tr><td>2019-02-15</td><td>large phone</td><td>700.0</td><td>2019-02-15</td></tr><tr><td>2019-03-05</td><td>small phone</td><td>100.0</td><td>2019-04-01</td></tr><tr><td>2019-01-20</td><td>small phone</td><td>300.0</td><td>2019-04-01</td></tr><tr><td>2019-04-01</td><td>small phone</td><td>50.0</td><td>2019-04-01</td></tr><tr><td>2019-01-01</td><td>notebook</td><td>600.0</td><td>2019-05-10</td></tr><tr><td>2019-05-10</td><td>notebook</td><td>1200.0</td><td>2019-05-10</td></tr><tr><td>2019-02-20</td><td>camera</td><td>150.0</td><td>2019-07-01</td></tr><tr><td>2019-07-01</td><td>camera</td><td>300.0</td><td>2019-07-01</td></tr></table>"
      ]
     },
     "execution_count": 8,
     "metadata": {},
     "output_type": "execute_result"
    }
   ],
   "source": [
    "%%dataframe\n",
    ":paste\n",
    "\n",
    "devicesDf\n",
    "    .withColumn(\"most_recent_purchase_in_group\", max(\"purchase_date\") over Window.partitionBy(\"device\"))"
   ]
  },
  {
   "cell_type": "code",
   "execution_count": 9,
   "metadata": {},
   "outputs": [
    {
     "data": {
      "text/html": [
       "<table><tr><th>purchase_date</th><th>device</th><th>price</th><th>most_recent_purchase_in_group</th></tr><tr><td>2019-02-15</td><td>large phone</td><td>700.0</td><td>2019-02-15</td></tr><tr><td>2019-04-01</td><td>small phone</td><td>50.0</td><td>2019-04-01</td></tr><tr><td>2019-05-10</td><td>notebook</td><td>1200.0</td><td>2019-05-10</td></tr><tr><td>2019-07-01</td><td>camera</td><td>300.0</td><td>2019-07-01</td></tr></table>"
      ]
     },
     "execution_count": 9,
     "metadata": {},
     "output_type": "execute_result"
    }
   ],
   "source": [
    "%%dataframe\n",
    ":paste\n",
    "\n",
    "devicesDf\n",
    "    .withColumn(\"most_recent_purchase_in_group\", max(\"purchase_date\") over Window.partitionBy(\"device\"))\n",
    "    .filter($\"purchase_date\" === $\"most_recent_purchase_in_group\")"
   ]
  },
  {
   "cell_type": "markdown",
   "metadata": {},
   "source": [
    "## get median value\n",
    "\n",
    "median = percentile 50\n",
    "\n",
    "what's the lowest price over percentile 50?"
   ]
  },
  {
   "cell_type": "code",
   "execution_count": 10,
   "metadata": {},
   "outputs": [
    {
     "data": {
      "text/html": [
       "<table><tr><th>purchase_date</th><th>device</th><th>price</th><th>percentile</th></tr><tr><td>2019-04-01</td><td>small phone</td><td>50.0</td><td>0.0</td></tr><tr><td>2019-03-05</td><td>small phone</td><td>100.0</td><td>0.14285714285714285</td></tr><tr><td>2019-02-20</td><td>camera</td><td>150.0</td><td>0.2857142857142857</td></tr><tr><td>2019-01-20</td><td>small phone</td><td>300.0</td><td>0.42857142857142855</td></tr><tr><td>2019-07-01</td><td>camera</td><td>300.0</td><td>0.42857142857142855</td></tr><tr><td>2019-01-01</td><td>notebook</td><td>600.0</td><td>0.7142857142857143</td></tr><tr><td>2019-02-15</td><td>large phone</td><td>700.0</td><td>0.8571428571428571</td></tr><tr><td>2019-05-10</td><td>notebook</td><td>1200.0</td><td>1.0</td></tr></table>"
      ]
     },
     "execution_count": 10,
     "metadata": {},
     "output_type": "execute_result"
    }
   ],
   "source": [
    "%%dataframe\n",
    ":paste\n",
    "devicesDf\n",
    "    .withColumn(\"percentile\", percent_rank() over Window.orderBy(\"price\"))"
   ]
  },
  {
   "cell_type": "code",
   "execution_count": 11,
   "metadata": {},
   "outputs": [
    {
     "data": {
      "text/html": [
       "<table><tr><th>purchase_date</th><th>device</th><th>price</th><th>percentile</th></tr><tr><td>2019-01-01</td><td>notebook</td><td>600.0</td><td>0.7142857142857143</td></tr></table>"
      ]
     },
     "execution_count": 11,
     "metadata": {},
     "output_type": "execute_result"
    }
   ],
   "source": [
    "%%dataframe\n",
    ":paste\n",
    "devicesDf\n",
    "    .withColumn(\"percentile\", percent_rank() over Window.orderBy(\"price\"))\n",
    "    .filter($\"percentile\" >= 0.5)\n",
    "    .limit(1)"
   ]
  },
  {
   "cell_type": "markdown",
   "metadata": {},
   "source": [
    "## get percentile\n",
    "\n",
    "what's the lowest price over percentile 85?"
   ]
  },
  {
   "cell_type": "code",
   "execution_count": 12,
   "metadata": {},
   "outputs": [
    {
     "data": {
      "text/html": [
       "<table><tr><th>purchase_date</th><th>device</th><th>price</th><th>percentile</th></tr><tr><td>2019-04-01</td><td>small phone</td><td>50.0</td><td>0.0</td></tr><tr><td>2019-03-05</td><td>small phone</td><td>100.0</td><td>0.14285714285714285</td></tr><tr><td>2019-02-20</td><td>camera</td><td>150.0</td><td>0.2857142857142857</td></tr><tr><td>2019-01-20</td><td>small phone</td><td>300.0</td><td>0.42857142857142855</td></tr><tr><td>2019-07-01</td><td>camera</td><td>300.0</td><td>0.42857142857142855</td></tr><tr><td>2019-01-01</td><td>notebook</td><td>600.0</td><td>0.7142857142857143</td></tr><tr><td>2019-02-15</td><td>large phone</td><td>700.0</td><td>0.8571428571428571</td></tr><tr><td>2019-05-10</td><td>notebook</td><td>1200.0</td><td>1.0</td></tr></table>"
      ]
     },
     "execution_count": 12,
     "metadata": {},
     "output_type": "execute_result"
    }
   ],
   "source": [
    "%%dataframe\n",
    ":paste\n",
    "devicesDf\n",
    "    .withColumn(\"percentile\", percent_rank() over Window.orderBy(\"price\"))"
   ]
  },
  {
   "cell_type": "code",
   "execution_count": 13,
   "metadata": {},
   "outputs": [
    {
     "data": {
      "text/html": [
       "<table><tr><th>purchase_date</th><th>device</th><th>price</th><th>percentile</th></tr><tr><td>2019-02-15</td><td>large phone</td><td>700.0</td><td>0.8571428571428571</td></tr></table>"
      ]
     },
     "execution_count": 13,
     "metadata": {},
     "output_type": "execute_result"
    }
   ],
   "source": [
    "%%dataframe\n",
    ":paste\n",
    "devicesDf\n",
    "    .withColumn(\"percentile\", percent_rank() over Window.orderBy(\"price\"))\n",
    "    .filter($\"percentile\" >= 0.85)\n",
    "    .limit(1)"
   ]
  },
  {
   "cell_type": "markdown",
   "metadata": {},
   "source": [
    "## cumulative sum\n",
    "\n",
    "cumulative sum requires an ordered window"
   ]
  },
  {
   "cell_type": "code",
   "execution_count": 14,
   "metadata": {},
   "outputs": [
    {
     "data": {
      "text/html": [
       "<table><tr><th>purchase_date</th><th>device</th><th>price</th><th>cumulative_sum</th></tr><tr><td>2019-01-01</td><td>notebook</td><td>600.0</td><td>600.0</td></tr><tr><td>2019-01-20</td><td>small phone</td><td>300.0</td><td>900.0</td></tr><tr><td>2019-02-15</td><td>large phone</td><td>700.0</td><td>1600.0</td></tr><tr><td>2019-02-20</td><td>camera</td><td>150.0</td><td>1750.0</td></tr><tr><td>2019-03-05</td><td>small phone</td><td>100.0</td><td>1850.0</td></tr><tr><td>2019-04-01</td><td>small phone</td><td>50.0</td><td>1900.0</td></tr><tr><td>2019-05-10</td><td>notebook</td><td>1200.0</td><td>3100.0</td></tr><tr><td>2019-07-01</td><td>camera</td><td>300.0</td><td>3400.0</td></tr></table>"
      ]
     },
     "execution_count": 14,
     "metadata": {},
     "output_type": "execute_result"
    }
   ],
   "source": [
    "%%dataframe\n",
    ":paste\n",
    "devicesDf\n",
    "    .withColumn(\"cumulative_sum\", sum(\"price\") over Window.orderBy(\"purchase_date\"))"
   ]
  },
  {
   "cell_type": "markdown",
   "metadata": {},
   "source": [
    "## get row number\n",
    "\n",
    "Also called **rank**.\n",
    "\n",
    "`row_number` requires an ordered window"
   ]
  },
  {
   "cell_type": "code",
   "execution_count": 15,
   "metadata": {},
   "outputs": [
    {
     "data": {
      "text/html": [
       "<table><tr><th>purchase_date</th><th>device</th><th>price</th><th>row_number</th></tr><tr><td>2019-01-01</td><td>notebook</td><td>600.0</td><td>1</td></tr><tr><td>2019-01-20</td><td>small phone</td><td>300.0</td><td>2</td></tr><tr><td>2019-02-15</td><td>large phone</td><td>700.0</td><td>3</td></tr><tr><td>2019-02-20</td><td>camera</td><td>150.0</td><td>4</td></tr><tr><td>2019-03-05</td><td>small phone</td><td>100.0</td><td>5</td></tr><tr><td>2019-04-01</td><td>small phone</td><td>50.0</td><td>6</td></tr><tr><td>2019-05-10</td><td>notebook</td><td>1200.0</td><td>7</td></tr><tr><td>2019-07-01</td><td>camera</td><td>300.0</td><td>8</td></tr></table>"
      ]
     },
     "execution_count": 15,
     "metadata": {},
     "output_type": "execute_result"
    }
   ],
   "source": [
    "%%dataframe\n",
    ":paste\n",
    "devicesDf\n",
    "    .withColumn(\"row_number\", row_number() over Window.orderBy(\"purchase_date\"))"
   ]
  },
  {
   "cell_type": "markdown",
   "metadata": {},
   "source": [
    "## row number in partition"
   ]
  },
  {
   "cell_type": "markdown",
   "metadata": {},
   "source": [
    "also called **rank**\n",
    "\n",
    "`row_number` requires an ordered window"
   ]
  },
  {
   "cell_type": "code",
   "execution_count": 17,
   "metadata": {},
   "outputs": [
    {
     "data": {
      "text/html": [
       "<table><tr><th>purchase_date</th><th>device</th><th>price</th><th>row_number</th></tr><tr><td>2019-02-15</td><td>large phone</td><td>700.0</td><td>1</td></tr><tr><td>2019-01-20</td><td>small phone</td><td>300.0</td><td>1</td></tr><tr><td>2019-03-05</td><td>small phone</td><td>100.0</td><td>2</td></tr><tr><td>2019-04-01</td><td>small phone</td><td>50.0</td><td>3</td></tr><tr><td>2019-01-01</td><td>notebook</td><td>600.0</td><td>1</td></tr><tr><td>2019-05-10</td><td>notebook</td><td>1200.0</td><td>2</td></tr><tr><td>2019-02-20</td><td>camera</td><td>150.0</td><td>1</td></tr><tr><td>2019-07-01</td><td>camera</td><td>300.0</td><td>2</td></tr></table>"
      ]
     },
     "execution_count": 17,
     "metadata": {},
     "output_type": "execute_result"
    }
   ],
   "source": [
    "%%dataframe\n",
    ":paste\n",
    "devicesDf\n",
    "    .withColumn(\"row_number\", row_number() over Window.partitionBy(\"device\").orderBy(\"purchase_date\"))"
   ]
  },
  {
   "cell_type": "code",
   "execution_count": null,
   "metadata": {},
   "outputs": [],
   "source": []
  }
 ],
 "metadata": {
  "kernelspec": {
   "display_name": "Apache Toree - Scala",
   "language": "scala",
   "name": "apache_toree_scala"
  },
  "language_info": {
   "codemirror_mode": "text/x-scala",
   "file_extension": ".scala",
   "mimetype": "text/x-scala",
   "name": "scala",
   "pygments_lexer": "scala",
   "version": "2.11.12"
  }
 },
 "nbformat": 4,
 "nbformat_minor": 2
}
