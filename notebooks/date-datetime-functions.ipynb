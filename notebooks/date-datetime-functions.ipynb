{
 "cells": [
  {
   "cell_type": "code",
   "execution_count": 1,
   "metadata": {},
   "outputs": [],
   "source": [
    "import java.sql.{Date,Timestamp}"
   ]
  },
  {
   "cell_type": "code",
   "execution_count": 2,
   "metadata": {},
   "outputs": [
    {
     "data": {
      "text/plain": [
       "2.4.6"
      ]
     },
     "execution_count": 2,
     "metadata": {},
     "output_type": "execute_result"
    }
   ],
   "source": [
    "spark.version"
   ]
  },
  {
   "cell_type": "markdown",
   "metadata": {},
   "source": [
    "## to date"
   ]
  },
  {
   "cell_type": "code",
   "execution_count": 3,
   "metadata": {},
   "outputs": [
    {
     "data": {
      "text/plain": [
       "df = [device: string, purchase_date: string]\n"
      ]
     },
     "metadata": {},
     "output_type": "display_data"
    },
    {
     "data": {
      "text/plain": [
       "Array((device,StringType), (purchase_date,StringType))"
      ]
     },
     "execution_count": 3,
     "metadata": {},
     "output_type": "execute_result"
    }
   ],
   "source": [
    "import org.apache.spark.sql.functions.to_date\n",
    "\n",
    "val df = Seq(\n",
    "    (\"notebook\",\"2019-01-01\"),\n",
    "    (\"notebook\", \"2019-01-10\"),\n",
    "    (\"small_phone\", \"2019-01-15\"),\n",
    "    (\"small_phone\", \"2019-01-30\")\n",
    ").toDF(\"device\", \"purchase_date\").sort(\"device\",\"purchase_date\")\n",
    "\n",
    "df.dtypes"
   ]
  },
  {
   "cell_type": "code",
   "execution_count": 4,
   "metadata": {},
   "outputs": [
    {
     "data": {
      "text/plain": [
       "Array((device,StringType), (purchase_date,DateType))"
      ]
     },
     "execution_count": 4,
     "metadata": {},
     "output_type": "execute_result"
    }
   ],
   "source": [
    "df.withColumn(\"purchase_date\",to_date($\"purchase_date\")).dtypes"
   ]
  },
  {
   "cell_type": "markdown",
   "metadata": {},
   "source": [
    "## to datetime"
   ]
  },
  {
   "cell_type": "code",
   "execution_count": 5,
   "metadata": {},
   "outputs": [
    {
     "data": {
      "text/plain": [
       "df = [device: string, purchase_time: string]\n"
      ]
     },
     "metadata": {},
     "output_type": "display_data"
    },
    {
     "data": {
      "text/plain": [
       "[device: string, purchase_time: string]"
      ]
     },
     "execution_count": 5,
     "metadata": {},
     "output_type": "execute_result"
    }
   ],
   "source": [
    "val df = Seq(\n",
    "    (\"notebook\",\"2019-01-01 00:00:00\"),\n",
    "    (\"notebook\", \"2019-01-10 13:00:00\"),\n",
    "    (\"small_phone\", \"2019-01-15 12:00:00\"),\n",
    "    (\"small_phone\", \"2019-01-30 09:30:00\")\n",
    ").toDF(\"device\", \"purchase_time\").sort(\"device\",\"purchase_time\")"
   ]
  },
  {
   "cell_type": "code",
   "execution_count": 6,
   "metadata": {},
   "outputs": [
    {
     "data": {
      "text/plain": [
       "Array((device,StringType), (purchase_time,StringType))"
      ]
     },
     "execution_count": 6,
     "metadata": {},
     "output_type": "execute_result"
    }
   ],
   "source": [
    "df.dtypes"
   ]
  },
  {
   "cell_type": "code",
   "execution_count": 7,
   "metadata": {},
   "outputs": [],
   "source": [
    "import org.apache.spark.sql.functions.to_timestamp"
   ]
  },
  {
   "cell_type": "code",
   "execution_count": 8,
   "metadata": {},
   "outputs": [
    {
     "data": {
      "text/plain": [
       "Array((device,StringType), (purchase_time,TimestampType))"
      ]
     },
     "execution_count": 8,
     "metadata": {},
     "output_type": "execute_result"
    }
   ],
   "source": [
    "df.withColumn(\"purchase_time\",to_timestamp($\"purchase_time\")).dtypes"
   ]
  },
  {
   "cell_type": "markdown",
   "metadata": {},
   "source": [
    "## to datetime custom format"
   ]
  },
  {
   "cell_type": "code",
   "execution_count": 9,
   "metadata": {},
   "outputs": [
    {
     "data": {
      "text/plain": [
       "df = [device: string, purchase_time: string]\n"
      ]
     },
     "metadata": {},
     "output_type": "display_data"
    },
    {
     "data": {
      "text/plain": [
       "Array((device,StringType), (purchase_time,StringType))"
      ]
     },
     "execution_count": 9,
     "metadata": {},
     "output_type": "execute_result"
    }
   ],
   "source": [
    "val df = Seq(\n",
    "    (\"notebook\",\"27/12/2019 12:00\"),\n",
    "    (\"notebook\", \"01/12/2019 00:00\"),\n",
    "    (\"small_phone\", \"23/01/2019 12:00\"),\n",
    "    (\"small_phone\", \"27/12/2019 12:00\")\n",
    ").toDF(\"device\", \"purchase_time\").sort(\"device\",\"purchase_time\")\n",
    "\n",
    "df.dtypes"
   ]
  },
  {
   "cell_type": "code",
   "execution_count": 10,
   "metadata": {},
   "outputs": [
    {
     "data": {
      "text/html": [
       "<table><tr><th>device</th><th>purchase_time</th></tr><tr><td>notebook</td><td>null</td></tr><tr><td>notebook</td><td>null</td></tr><tr><td>small_phone</td><td>null</td></tr><tr><td>small_phone</td><td>null</td></tr></table>"
      ]
     },
     "execution_count": 10,
     "metadata": {},
     "output_type": "execute_result"
    }
   ],
   "source": [
    "%%dataframe\n",
    "df.withColumn(\"purchase_time\",to_timestamp($\"purchase_time\"))"
   ]
  },
  {
   "cell_type": "code",
   "execution_count": 11,
   "metadata": {},
   "outputs": [
    {
     "data": {
      "text/html": [
       "<table><tr><th>device</th><th>purchase_time</th></tr><tr><td>notebook</td><td>2019-12-01 00:00:00.0</td></tr><tr><td>notebook</td><td>2019-12-27 12:00:00.0</td></tr><tr><td>small_phone</td><td>2019-01-23 12:00:00.0</td></tr><tr><td>small_phone</td><td>2019-12-27 12:00:00.0</td></tr></table>"
      ]
     },
     "execution_count": 11,
     "metadata": {},
     "output_type": "execute_result"
    }
   ],
   "source": [
    "%%dataframe\n",
    "df.withColumn(\"purchase_time\",to_timestamp($\"purchase_time\",\"d/M/y H:m\"))"
   ]
  },
  {
   "cell_type": "markdown",
   "metadata": {},
   "source": [
    "## timestamp to date"
   ]
  },
  {
   "cell_type": "code",
   "execution_count": 12,
   "metadata": {},
   "outputs": [
    {
     "data": {
      "text/plain": [
       "df = [device: string, purchase_time: timestamp]\n"
      ]
     },
     "metadata": {},
     "output_type": "display_data"
    },
    {
     "data": {
      "text/plain": [
       "Array((device,StringType), (purchase_time,TimestampType))"
      ]
     },
     "execution_count": 12,
     "metadata": {},
     "output_type": "execute_result"
    }
   ],
   "source": [
    "val df = Seq(\n",
    "    (\"notebook\",Timestamp.valueOf(\"2019-01-29 12:00:00\")),\n",
    "    (\"notebook\", Timestamp.valueOf(\"2019-01-01 00:00:00\")),\n",
    "    (\"small_phone\", Timestamp.valueOf(\"2019-01-15 23:00:00\")),\n",
    "    (\"small_phone\", Timestamp.valueOf(\"2019-01-01 09:00:00\"))\n",
    ").toDF(\"device\", \"purchase_time\").sort(\"device\",\"purchase_time\")\n",
    "\n",
    "df.dtypes"
   ]
  },
  {
   "cell_type": "code",
   "execution_count": 13,
   "metadata": {},
   "outputs": [
    {
     "data": {
      "text/html": [
       "<table><tr><th>device</th><th>purchase_time</th><th>purchase_date</th></tr><tr><td>notebook</td><td>2019-01-01 00:00:00.0</td><td>2019-01-01</td></tr><tr><td>notebook</td><td>2019-01-29 12:00:00.0</td><td>2019-01-29</td></tr><tr><td>small_phone</td><td>2019-01-01 09:00:00.0</td><td>2019-01-01</td></tr><tr><td>small_phone</td><td>2019-01-15 23:00:00.0</td><td>2019-01-15</td></tr></table>"
      ]
     },
     "execution_count": 13,
     "metadata": {},
     "output_type": "execute_result"
    }
   ],
   "source": [
    "%%dataframe\n",
    "df.withColumn(\"purchase_date\",to_date($\"purchase_time\"))"
   ]
  },
  {
   "cell_type": "markdown",
   "metadata": {},
   "source": [
    "## date to timestamp with zero hours"
   ]
  },
  {
   "cell_type": "code",
   "execution_count": 14,
   "metadata": {},
   "outputs": [
    {
     "data": {
      "text/plain": [
       "df = [device: string, purchase_date: date]\n"
      ]
     },
     "metadata": {},
     "output_type": "display_data"
    },
    {
     "data": {
      "text/plain": [
       "[device: string, purchase_date: date]"
      ]
     },
     "execution_count": 14,
     "metadata": {},
     "output_type": "execute_result"
    }
   ],
   "source": [
    "import java.sql.Date\n",
    "import org.apache.spark.sql.functions.to_timestamp\n",
    "\n",
    "val df = Seq(\n",
    "    (\"notebook\",Date.valueOf(\"2019-01-29\")),\n",
    "    (\"notebook\", Date.valueOf(\"2019-01-01\")),\n",
    "    (\"small_phone\", Date.valueOf(\"2019-01-15\")),\n",
    "    (\"small_phone\", Date.valueOf(\"2019-01-01\"))\n",
    ").toDF(\"device\", \"purchase_date\").sort(\"device\",\"purchase_date\")"
   ]
  },
  {
   "cell_type": "code",
   "execution_count": 15,
   "metadata": {},
   "outputs": [
    {
     "data": {
      "text/html": [
       "<table><tr><th>device</th><th>purchase_date</th></tr><tr><td>notebook</td><td>2019-01-01</td></tr><tr><td>notebook</td><td>2019-01-29</td></tr><tr><td>small_phone</td><td>2019-01-01</td></tr><tr><td>small_phone</td><td>2019-01-15</td></tr></table>"
      ]
     },
     "execution_count": 15,
     "metadata": {},
     "output_type": "execute_result"
    }
   ],
   "source": [
    "%%dataframe\n",
    "df"
   ]
  },
  {
   "cell_type": "code",
   "execution_count": 16,
   "metadata": {},
   "outputs": [
    {
     "data": {
      "text/html": [
       "<table><tr><th>device</th><th>purchase_date</th><th>purchase_time</th></tr><tr><td>notebook</td><td>2019-01-01</td><td>2019-01-01 00:00:00.0</td></tr><tr><td>notebook</td><td>2019-01-29</td><td>2019-01-29 00:00:00.0</td></tr><tr><td>small_phone</td><td>2019-01-01</td><td>2019-01-01 00:00:00.0</td></tr><tr><td>small_phone</td><td>2019-01-15</td><td>2019-01-15 00:00:00.0</td></tr></table>"
      ]
     },
     "execution_count": 16,
     "metadata": {},
     "output_type": "execute_result"
    }
   ],
   "source": [
    "%%dataframe\n",
    "df.withColumn(\"purchase_time\",to_timestamp($\"purchase_date\"))"
   ]
  },
  {
   "cell_type": "markdown",
   "metadata": {},
   "source": [
    "## custom date/timestamp formatting"
   ]
  },
  {
   "cell_type": "code",
   "execution_count": 17,
   "metadata": {},
   "outputs": [
    {
     "data": {
      "text/plain": [
       "df = [device: string, purchase_time: timestamp]\n"
      ]
     },
     "metadata": {},
     "output_type": "display_data"
    },
    {
     "data": {
      "text/plain": [
       "[device: string, purchase_time: timestamp]"
      ]
     },
     "execution_count": 17,
     "metadata": {},
     "output_type": "execute_result"
    }
   ],
   "source": [
    "import java.sql.Timestamp\n",
    "import org.apache.spark.sql.functions.date_format\n",
    "\n",
    "val df = Seq(\n",
    "    (\"notebook\",Timestamp.valueOf(\"2019-01-29 12:00:00\")),\n",
    "    (\"notebook\", Timestamp.valueOf(\"2019-01-01 00:00:00\")),\n",
    "    (\"small_phone\", Timestamp.valueOf(\"2019-01-15 23:00:00\")),\n",
    "    (\"small_phone\", Timestamp.valueOf(\"2019-01-01 09:00:00\"))\n",
    ").toDF(\"device\", \"purchase_time\").sort(\"device\",\"purchase_time\")"
   ]
  },
  {
   "cell_type": "code",
   "execution_count": 18,
   "metadata": {},
   "outputs": [
    {
     "data": {
      "text/html": [
       "<table><tr><th>device</th><th>purchase_time</th><th>formatted_purchase_time</th></tr><tr><td>notebook</td><td>2019-01-01 00:00:00.0</td><td>2019-01</td></tr><tr><td>notebook</td><td>2019-01-29 12:00:00.0</td><td>2019-01</td></tr><tr><td>small_phone</td><td>2019-01-01 09:00:00.0</td><td>2019-01</td></tr><tr><td>small_phone</td><td>2019-01-15 23:00:00.0</td><td>2019-01</td></tr></table>"
      ]
     },
     "execution_count": 18,
     "metadata": {},
     "output_type": "execute_result"
    }
   ],
   "source": [
    "%%dataframe\n",
    "df.withColumn(\"formatted_purchase_time\",date_format($\"purchase_time\",\"y-MM\"))"
   ]
  },
  {
   "cell_type": "markdown",
   "metadata": {},
   "source": [
    "## add sub"
   ]
  },
  {
   "cell_type": "code",
   "execution_count": 19,
   "metadata": {},
   "outputs": [
    {
     "data": {
      "text/plain": [
       "df = [device: string, purchase_time: string]\n"
      ]
     },
     "metadata": {},
     "output_type": "display_data"
    },
    {
     "data": {
      "text/plain": [
       "[device: string, purchase_time: string]"
      ]
     },
     "execution_count": 19,
     "metadata": {},
     "output_type": "execute_result"
    }
   ],
   "source": [
    "import org.apache.spark.sql.functions.{date_add,date_sub}\n",
    "\n",
    "// note that the dates are just string\n",
    "val df = Seq(\n",
    "    (\"notebook\",\"2019-01-29 12:00:00\"),\n",
    "    (\"notebook\", \"2019-01-01 00:00:00\"),\n",
    "    (\"small_phone\",\"2019-01-15 23:00:00\"),\n",
    "    (\"small_phone\", \"2019-01-01 09:00:00\")\n",
    ").toDF(\"device\", \"purchase_time\").sort(\"device\",\"purchase_time\")"
   ]
  },
  {
   "cell_type": "code",
   "execution_count": 20,
   "metadata": {},
   "outputs": [
    {
     "data": {
      "text/html": [
       "<table><tr><th>device</th><th>purchase_time</th><th>plus_2_days</th></tr><tr><td>notebook</td><td>2019-01-01 00:00:00</td><td>2019-01-03</td></tr><tr><td>notebook</td><td>2019-01-29 12:00:00</td><td>2019-01-31</td></tr><tr><td>small_phone</td><td>2019-01-01 09:00:00</td><td>2019-01-03</td></tr><tr><td>small_phone</td><td>2019-01-15 23:00:00</td><td>2019-01-17</td></tr></table>"
      ]
     },
     "execution_count": 20,
     "metadata": {},
     "output_type": "execute_result"
    }
   ],
   "source": [
    "%%dataframe\n",
    "df.withColumn(\"plus_2_days\",date_add($\"purchase_time\",2))"
   ]
  },
  {
   "cell_type": "markdown",
   "metadata": {},
   "source": [
    "## datediff"
   ]
  },
  {
   "cell_type": "code",
   "execution_count": 21,
   "metadata": {},
   "outputs": [
    {
     "data": {
      "text/plain": [
       "df = [device: string, purchase_date: string ... 1 more field]\n"
      ]
     },
     "metadata": {},
     "output_type": "display_data"
    },
    {
     "data": {
      "text/plain": [
       "[device: string, purchase_date: string ... 1 more field]"
      ]
     },
     "execution_count": 21,
     "metadata": {},
     "output_type": "execute_result"
    }
   ],
   "source": [
    "import org.apache.spark.sql.functions.datediff\n",
    "\n",
    "// note that the dates are just strings\n",
    "val df = Seq(\n",
    "    (\"notebook\",\"2019-01-29\", \"2019-02-10\"),\n",
    "    (\"notebook\", \"2019-01-01\",\"2019-01-15\"),\n",
    "    (\"small_phone\",\"2019-01-15\",\"2019-01-05\"),\n",
    "    (\"small_phone\", \"2019-01-01\",\"2019-01-20\")\n",
    ").toDF(\"device\", \"purchase_date\", \"arrival_date\").sort(\"device\",\"purchase_date\")"
   ]
  },
  {
   "cell_type": "code",
   "execution_count": 22,
   "metadata": {},
   "outputs": [
    {
     "data": {
      "text/html": [
       "<table><tr><th>device</th><th>purchase_date</th><th>arrival_date</th></tr><tr><td>notebook</td><td>2019-01-01</td><td>2019-01-15</td></tr><tr><td>notebook</td><td>2019-01-29</td><td>2019-02-10</td></tr><tr><td>small_phone</td><td>2019-01-01</td><td>2019-01-20</td></tr><tr><td>small_phone</td><td>2019-01-15</td><td>2019-01-05</td></tr></table>"
      ]
     },
     "execution_count": 22,
     "metadata": {},
     "output_type": "execute_result"
    }
   ],
   "source": [
    "%%dataframe\n",
    "df"
   ]
  },
  {
   "cell_type": "code",
   "execution_count": 23,
   "metadata": {},
   "outputs": [
    {
     "data": {
      "text/html": [
       "<table><tr><th>device</th><th>purchase_date</th><th>arrival_date</th><th>days_to_arrive</th></tr><tr><td>notebook</td><td>2019-01-01</td><td>2019-01-15</td><td>14</td></tr><tr><td>notebook</td><td>2019-01-29</td><td>2019-02-10</td><td>12</td></tr><tr><td>small_phone</td><td>2019-01-01</td><td>2019-01-20</td><td>19</td></tr><tr><td>small_phone</td><td>2019-01-15</td><td>2019-01-05</td><td>-10</td></tr></table>"
      ]
     },
     "execution_count": 23,
     "metadata": {},
     "output_type": "execute_result"
    }
   ],
   "source": [
    "%%dataframe\n",
    "df.withColumn(\"days_to_arrive\",datediff($\"arrival_date\",$\"purchase_date\"))"
   ]
  },
  {
   "cell_type": "markdown",
   "metadata": {},
   "source": [
    "## difference in seconds"
   ]
  },
  {
   "cell_type": "code",
   "execution_count": 30,
   "metadata": {},
   "outputs": [
    {
     "data": {
      "text/plain": [
       "df = [col1: string, purchase_time: string ... 1 more field]\n"
      ]
     },
     "metadata": {},
     "output_type": "display_data"
    },
    {
     "data": {
      "text/plain": [
       "lastException: Throwable = null\n"
      ]
     },
     "metadata": {},
     "output_type": "display_data"
    },
    {
     "data": {
      "text/plain": [
       "[col1: string, purchase_time: string ... 1 more field]"
      ]
     },
     "execution_count": 30,
     "metadata": {},
     "output_type": "execute_result"
    }
   ],
   "source": [
    "import org.apache.spark.sql.functions.unix_timestamp\n",
    "\n",
    "val df = Seq(\n",
    "    (\"foo\", \"2019-01-01 00:00:00\", \"2019-01-01 01:00:00\"), // 1 hour apart\n",
    "    (\"bar\", \"2019-01-01 00:00:00\", \"2019-01-02 00:00:00\"), // 24 hours apart\n",
    "    (\"baz\", \"2019-01-01 00:00:00\", \"2019-01-07 00:00:00\")  // 7 days apart\n",
    ").toDF(\"col1\", \"purchase_time\", \"arrival_time\").sort(\"col1\",\"purchase_time\")"
   ]
  },
  {
   "cell_type": "code",
   "execution_count": 31,
   "metadata": {},
   "outputs": [
    {
     "data": {
      "text/html": [
       "<table><tr><th>col1</th><th>purchase_time</th><th>arrival_time</th></tr><tr><td>bar</td><td>2019-01-01 00:00:00</td><td>2019-01-02 00:00:00</td></tr><tr><td>baz</td><td>2019-01-01 00:00:00</td><td>2019-01-07 00:00:00</td></tr><tr><td>foo</td><td>2019-01-01 00:00:00</td><td>2019-01-01 01:00:00</td></tr></table>"
      ]
     },
     "execution_count": 31,
     "metadata": {},
     "output_type": "execute_result"
    }
   ],
   "source": [
    "%%dataframe\n",
    "df"
   ]
  },
  {
   "cell_type": "code",
   "execution_count": 35,
   "metadata": {},
   "outputs": [
    {
     "data": {
      "text/html": [
       "<table><tr><th>col1</th><th>purchase_time</th><th>arrival_time</th><th>diff_in_seconds</th></tr><tr><td>bar</td><td>2019-01-01 00:00:00</td><td>2019-01-02 00:00:00</td><td>86400</td></tr><tr><td>baz</td><td>2019-01-01 00:00:00</td><td>2019-01-07 00:00:00</td><td>518400</td></tr><tr><td>foo</td><td>2019-01-01 00:00:00</td><td>2019-01-01 01:00:00</td><td>3600</td></tr></table>"
      ]
     },
     "execution_count": 35,
     "metadata": {},
     "output_type": "execute_result"
    }
   ],
   "source": [
    "%%dataframe\n",
    "df.withColumn(\"diff_in_seconds\", unix_timestamp($\"arrival_time\")-unix_timestamp($\"purchase_time\"))"
   ]
  },
  {
   "cell_type": "code",
   "execution_count": null,
   "metadata": {},
   "outputs": [],
   "source": []
  }
 ],
 "metadata": {
  "kernelspec": {
   "display_name": "Apache Toree - Scala",
   "language": "scala",
   "name": "apache_toree_scala"
  },
  "language_info": {
   "codemirror_mode": "text/x-scala",
   "file_extension": ".scala",
   "mimetype": "text/x-scala",
   "name": "scala",
   "pygments_lexer": "scala",
   "version": "2.11.12"
  },
  "toc": {
   "base_numbering": 1,
   "nav_menu": {},
   "number_sections": true,
   "sideBar": true,
   "skip_h1_title": false,
   "title_cell": "Table of Contents",
   "title_sidebar": "Contents",
   "toc_cell": false,
   "toc_position": {},
   "toc_section_display": true,
   "toc_window_display": false
  }
 },
 "nbformat": 4,
 "nbformat_minor": 2
}
